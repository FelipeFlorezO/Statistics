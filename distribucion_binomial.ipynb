{
  "nbformat": 4,
  "nbformat_minor": 0,
  "metadata": {
    "colab": {
      "provenance": [],
      "include_colab_link": true
    },
    "kernelspec": {
      "name": "python3",
      "display_name": "Python 3"
    }
  },
  "cells": [
    {
      "cell_type": "markdown",
      "metadata": {
        "id": "view-in-github",
        "colab_type": "text"
      },
      "source": [
        "<a href=\"https://colab.research.google.com/github/FelipeFlorezO/Estadisticas/blob/main/distribucion_binomial.ipynb\" target=\"_parent\"><img src=\"https://colab.research.google.com/assets/colab-badge.svg\" alt=\"Open In Colab\"/></a>"
      ]
    },
    {
      "cell_type": "code",
      "metadata": {
        "id": "mk5PbdQ60KHF"
      },
      "source": [
        "import numpy as np\n",
        "from numpy.random import binomial\n",
        "from scipy.stats import binom\n",
        "from math import factorial\n",
        "import matplotlib.pyplot as plt"
      ],
      "execution_count": 1,
      "outputs": []
    },
    {
      "cell_type": "markdown",
      "metadata": {
        "id": "j0ZPLw1C275z"
      },
      "source": [
        "## Secuencias de eventos tipo Bernoulli\n",
        "\n",
        "$$\n",
        "P(k, n; p) = {n \\choose k} p^k (1-p)^{n-k} = \\frac{n!}{k!(n-k)!}p^k (1-p)^{n-k}\n",
        "$$"
      ]
    },
    {
      "cell_type": "code",
      "metadata": {
        "id": "zV3MBWjh3q1I"
      },
      "source": [
        "# definición de la distribución binomial \n",
        "def my_binomial(k, n, p):\n",
        "  return factorial(n)/(factorial(k)*(factorial(n-k)))*pow(p,k)*pow(1-p, n-k)"
      ],
      "execution_count": 2,
      "outputs": []
    },
    {
      "cell_type": "code",
      "metadata": {
        "id": "1zz8o3qp4SaV",
        "outputId": "9d4eb2e3-b1b7-4031-ba10-0d28035356bc",
        "colab": {
          "base_uri": "https://localhost:8080/"
        }
      },
      "source": [
        "print('my_binomial: {}'.format(my_binomial(2, 3, 0.5)))\n",
        "dist = binom(3, 0.5)\n",
        "dist.pmf(2)"
      ],
      "execution_count": 3,
      "outputs": [
        {
          "output_type": "stream",
          "name": "stdout",
          "text": [
            "my_binomial: 0.375\n"
          ]
        },
        {
          "output_type": "execute_result",
          "data": {
            "text/plain": [
              "0.3750000000000001"
            ]
          },
          "metadata": {},
          "execution_count": 3
        }
      ]
    },
    {
      "cell_type": "markdown",
      "metadata": {
        "id": "U6RH83Vfp5Jh"
      },
      "source": [
        "## Validación del ejercicio hecho a mano\n",
        "\n",
        "$$\n",
        "P(k\\leq 2, n=3, p=1/2) = \\sum_{k=0}^2 \\left[ \\frac{n!}{k!(n-k)!}p^k (1-p)^{n-k} \\right] = \\frac{7}{8}\n",
        "$$\n"
      ]
    },
    {
      "cell_type": "code",
      "metadata": {
        "id": "X6pS-e1k3E6D",
        "outputId": "d17eb785-3379-49d2-fa31-9efc061b62c1",
        "colab": {
          "base_uri": "https://localhost:8080/"
        }
      },
      "source": [
        "print(7/8.0)\n",
        "dist.cdf(2)"
      ],
      "execution_count": 4,
      "outputs": [
        {
          "output_type": "stream",
          "name": "stdout",
          "text": [
            "0.875\n"
          ]
        },
        {
          "output_type": "execute_result",
          "data": {
            "text/plain": [
              "0.875"
            ]
          },
          "metadata": {},
          "execution_count": 4
        }
      ]
    },
    {
      "cell_type": "markdown",
      "metadata": {
        "id": "HFfJnG06rO6I"
      },
      "source": [
        "## Simulaciones de secuencias con generadores aleatorios\n",
        "\n",
        "* Los generadores aleatorios tienen como propósito simular muestras de datos que resultarían de muestreos en la vida real de procesos aleatorios como lanzar una moneda o un dado."
      ]
    },
    {
      "cell_type": "code",
      "metadata": {
        "id": "DgvwIIkD2hbo",
        "outputId": "c196f5f8-cfe4-488c-86f6-af37debb4939",
        "colab": {
          "base_uri": "https://localhost:8080/"
        }
      },
      "source": [
        "# simulación con 100 lanzamientos de moneda equilibrada\n",
        "# (ejecuta esta celda varias veces para observar la variación en los resultados)\n",
        "p=0.5\n",
        "n=3\n",
        "binomial(n, p)"
      ],
      "execution_count": 5,
      "outputs": [
        {
          "output_type": "execute_result",
          "data": {
            "text/plain": [
              "2"
            ]
          },
          "metadata": {},
          "execution_count": 5
        }
      ]
    },
    {
      "cell_type": "code",
      "metadata": {
        "id": "TjFgKhWFsjom"
      },
      "source": [
        "# Vamos a hacer un experimento generando una muestra de conjuntos de lanzamientos de a 3 monedas\n",
        "arr = []\n",
        "for _ in range(100):\n",
        "  arr.append(binomial(n, p))"
      ],
      "execution_count": 6,
      "outputs": []
    },
    {
      "cell_type": "code",
      "metadata": {
        "id": "v7hIwGTDs3Um",
        "outputId": "65918252-8150-4087-abb7-491d00fda32a",
        "colab": {
          "base_uri": "https://localhost:8080/",
          "height": 809
        }
      },
      "source": [
        "def plot_hist(num_trials):\n",
        "  values = [0,1,2,3]\n",
        "  arr = []\n",
        "  for _ in range(num_trials):\n",
        "    arr.append(binomial(3, 0.5))\n",
        "  distribucion_simulada = np.unique(arr, return_counts=True)[1]/len(arr)\n",
        "  distribucion_teorica = [binom(3, 0.5).pmf(k) for k in values]\n",
        "  plt.bar(values, distribucion_teorica, label = 'teoría', color = 'red')\n",
        "  plt.bar(values, distribucion_simulada, label = 'simulación', alpha = 0.5, color = 'blue')\n",
        "  plt.title('simulación con {} experimentos'.format(num_trials))\n",
        "  plt.show()\n",
        "\n",
        "plot_hist(20)\n",
        "plot_hist(200)\n",
        "plot_hist(20000)"
      ],
      "execution_count": 7,
      "outputs": [
        {
          "output_type": "display_data",
          "data": {
            "text/plain": [
              "<Figure size 432x288 with 1 Axes>"
            ],
            "image/png": "[encoded data removed]"
          },
          "metadata": {
            "needs_background": "light"
          }
        },
        {
          "output_type": "display_data",
          "data": {
            "text/plain": [
              "<Figure size 432x288 with 1 Axes>"
            ],
            "image/png": "[encoded data removed]"
          },
          "metadata": {
            "needs_background": "light"
          }
        },
        {
          "output_type": "display_data",
          "data": {
            "text/plain": [
              "<Figure size 432x288 with 1 Axes>"
            ],
            "image/png": "[encoded data removed]"
          },
          "metadata": {
            "needs_background": "light"
          }
        }
      ]
    }
  ]
}